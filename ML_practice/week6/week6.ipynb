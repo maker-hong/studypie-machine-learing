{
 "cells": [
  {
   "cell_type": "markdown",
   "metadata": {},
   "source": [
    "# 6주차 실습과제 \n",
    "* 배운 여러가지 알고리즘 중 DBSCAN을 실습하는 예제입니다.\n",
    "* 실습 파일에 주석 부분에 정답 코드를 기재하여 코드파일(. ipynb) 그대로 제출해주시면 됩니다. <br> (각 주석 사이에 pass를 지운 후 정답 코드를 입력해주세요)\n",
    "* 과제를 해결하실 때 커리큘럼의 참고 링크와 인터넷 검색을 사용하셔도 됩니다."
   ]
  },
  {
   "cell_type": "code",
   "execution_count": 2,
   "metadata": {
    "collapsed": true
   },
   "outputs": [],
   "source": [
    "%matplotlib inline\n",
    "import pandas as pd\n",
    "import numpy as np\n",
    "import matplotlib.pyplot as plt\n",
    "import seaborn as sns\n",
    "from sklearn.cluster import DBSCAN\n",
    "from sklearn import datasets"
   ]
  },
  {
   "cell_type": "markdown",
   "metadata": {},
   "source": [
    "## Density-Based Spatial Clustering of Applications with Noise(DBSCAN)\n",
    " * DBSCAN을 활용하여 outlier를 찾아봅시다."
   ]
  },
  {
   "cell_type": "markdown",
   "metadata": {},
   "source": [
    "### 1-1) DBSCAN알고리즘으로 X의 Clustering을 진행해주세요. <br><br> 1-2) 이때 적절한 parameter(Minpts, epsilon) 값은 어떻게 정해야 할까요?<br><br> 1-3) 예제에서 Outlier를 검출해보고, 검출 근거를 요약해주세요"
   ]
  },
  {
   "cell_type": "code",
   "execution_count": 3,
   "metadata": {
    "scrolled": false
   },
   "outputs": [],
   "source": [
    "data1 = np.load('./data/outlier2.npy')\n",
    "################################################################################\n",
    "# 1) Code :                                                                    # \n",
    "################################################################################\n",
    "pass\n",
    "################################################################################\n",
    "#                                 END OF YOUR CODE                             #\n",
    "################################################################################"
   ]
  },
  {
   "cell_type": "markdown",
   "metadata": {},
   "source": [
    "## DBSCAN parameter 정하기\n",
    " * 일반적인 문제에서 여러 변수에 대해 적절한 DBSCAN의 파라미터를 정하는 연습문제입니다.\n",
    " \n",
    " "
   ]
  },
  {
   "cell_type": "markdown",
   "metadata": {},
   "source": [
    "### 2-1) 아래 Iris dataset X로 DBSCAN알고리즘을 사용하여 클러스터의 수가 3개가 되는 (Minpts, epsilon) 조합을 하나만 구해 주세요.<br>(심화 : 일반적인 경우에 clustering algorithm의 파라미터는 어떤 방식으로 찾을 수 있을지 생각해봅시다.)"
   ]
  },
  {
   "cell_type": "code",
   "execution_count": 4,
   "metadata": {},
   "outputs": [],
   "source": [
    "iris = datasets.load_iris()\n",
    "X = iris.data[:, :] \n",
    "Y = iris.target # 클러스터링이 잘 됬나 확인하는 용도.\n",
    "################################################################################\n",
    "# 2) Code :                                                                    # \n",
    "################################################################################\n",
    "pass\n",
    "################################################################################\n",
    "#                                 END OF YOUR CODE                             #\n",
    "################################################################################"
   ]
  }
 ],
 "metadata": {
  "kernelspec": {
   "display_name": "Python 3",
   "language": "python",
   "name": "python3"
  },
  "language_info": {
   "codemirror_mode": {
    "name": "ipython",
    "version": 3
   },
   "file_extension": ".py",
   "mimetype": "text/x-python",
   "name": "python",
   "nbconvert_exporter": "python",
   "pygments_lexer": "ipython3",
   "version": "3.6.8"
  }
 },
 "nbformat": 4,
 "nbformat_minor": 2
}
