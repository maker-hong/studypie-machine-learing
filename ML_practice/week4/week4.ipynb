{
 "cells": [
  {
   "cell_type": "markdown",
   "metadata": {},
   "source": [
    "# 4주차 실습과제 \n",
    "* 배운 여러가지 알고리즘 중 Decision Tree와 Support Vector Machine을 실습하는 예제입니다.\n",
    "* 실습 파일에 주석 부분에 정답 코드를 기재하여 코드파일(. ipynb) 그대로 제출해주시면 됩니다. <br> (각 주석 사이에 pass를 지운 후 정답 코드를 입력해주세요)\n",
    "* 과제를 해결하실 때 커리큘럼의 참고 링크와 인터넷 검색을 사용하셔도 됩니다."
   ]
  },
  {
   "cell_type": "code",
   "execution_count": 2,
   "metadata": {
    "collapsed": true
   },
   "outputs": [],
   "source": [
    "%matplotlib inline\n",
    "import pandas as pd\n",
    "import numpy as np\n",
    "import matplotlib.pyplot as plt\n",
    "import seaborn as sns\n",
    "from sklearn.tree import DecisionTreeClassifier\n",
    "from sklearn.svm import SVC"
   ]
  },
  {
   "cell_type": "markdown",
   "metadata": {},
   "source": [
    "## Decision Tree Classifier\n",
    " * Kaggle Competition의 Titinic Data set을 활용하여 Decision Tree Classifier를 만들어 봅니다.\n",
    " * https://www.kaggle.com/c/titanic/data 에서 데이터(train.csv / test.csv / gender_submission.csv) 를 다운받으실 수 있습니다."
   ]
  },
  {
   "cell_type": "markdown",
   "metadata": {},
   "source": [
    "## 타이타닉 데이터셋을 활용한 생존자 Classification 문제입니다.\n",
    "* 일반적으로 데이터는 친절하지 않게 제공되는 경우가 더 많습니다.(Training / Test셋을 직접 분리해야 하는 경우도 많습니다.)\n",
    "* 그렇기 때문에 데이터를 살펴보고, classify 해야 하는 변수(column) 및 트레이닝, 테스트 데이터 셋을 구분하는 연습부터 진행해봅시다.\n",
    "* 아래는 column들의 definition입니다. \n",
    "\n",
    "|Variable|Definition|Key|\n",
    "|---|---|---|\n",
    "|PassengerId|Passenger Id|-|\n",
    "|Survived|Survival|0 = No, 1 = Yes|\n",
    "|Pclass|Ticket class|1 = 1st, 2 = 2nd, 3 = 3rd|\n",
    "|Name|Passenger Name|-|\n",
    "|Sex|Sex|male, female|\n",
    "|Age|Age|in years|\n",
    "|SibSp|# of siblings / spouses aboard the Titanic|-|\n",
    "|Parch|# of parents / children aboard the Titanic|-|\n",
    "|Ticket|Ticket number|-|\n",
    "|Fare|Passenger fare|-|\n",
    "|Cabin|Cabin number|-|\n",
    "|Embarked|Port of Embarkation|C = Cherbourg, Q = Queenstown, S = Southampton|\n",
    "\n",
    "<br>\n",
    "### 1-1) Train.csv / Test.csv / gender_submission.csv 를 입력받아 X_tr, X_tst, Y_tr, Y_tst 로 데이터를 나눠서 저장해 주세요.<br><br> 1-2) 데이터 탐색 및 분석으로 사용할 column들을 정하고, 각각 사용할 수 있는 형태로 데이터 전처리를 진행해 주세요<br>(X_tr : 트레이닝 셋의 예측에 활용할 변수들, Y_tr : 트레이닝 셋에 맞추고자하는(label) 변수, <br>X_tst, Y_tst : 테스트 셋에 동일한 데이터들 ) <br><br> 1-3) 트레이닝셋(X_tr, Y_tr)으로 Decision Tree Classfier를 만들어서 Test 셋(X_tst)에 적용해보고 예측 및 성능평가를 진행해주세요(X_tst로부터 예측한 X_pred와 Y_tst의 비교) <br><br> 1-4) Decision Tree모델의 성능을 올리기 위한 방법을 자유롭게 제안해 주세요"
   ]
  },
  {
   "cell_type": "code",
   "execution_count": 1,
   "metadata": {
    "collapsed": true,
    "scrolled": false
   },
   "outputs": [],
   "source": [
    "################################################################################\n",
    "# 1) Code :                                                                    # \n",
    "################################################################################\n",
    "pass\n",
    "################################################################################\n",
    "#                                 END OF YOUR CODE                             #\n",
    "################################################################################"
   ]
  },
  {
   "cell_type": "markdown",
   "metadata": {},
   "source": [
    "### Support Vector Classifier\n",
    " * 1번과 동일한 데이터로 Support Vector Classifier를 만들어 봅니다.\n",
    " * https://www.kaggle.com/c/titanic/data 에서 데이터(train.csv / test.csv / gender_submission.csv) 를 다운받으실 수 있습니다.\n",
    " \n",
    "### 2-1) 1번 문제와 동일한 데이터로 Support Vector Classifier 모델을 만들고, 예측 및 성능평가를 진행해주세요<br><br> 2-2) Titanic 문제에 대하여 이번주 까지 배운 지도학습 모델들을 몇 가지 적용해본 후, 가장 높은 Accuracy를 갖는 모델과 파라미터, 성능(accuracy)을 제출해 주세요."
   ]
  },
  {
   "cell_type": "code",
   "execution_count": 1,
   "metadata": {
    "collapsed": true
   },
   "outputs": [],
   "source": [
    "################################################################################\n",
    "# 2) Code :                                                                    # \n",
    "################################################################################\n",
    "pass\n",
    "################################################################################\n",
    "#                                 END OF YOUR CODE                             #\n",
    "################################################################################"
   ]
  }
 ],
 "metadata": {
  "kernelspec": {
   "display_name": "Python 3",
   "language": "python",
   "name": "python3"
  },
  "language_info": {
   "codemirror_mode": {
    "name": "ipython",
    "version": 3
   },
   "file_extension": ".py",
   "mimetype": "text/x-python",
   "name": "python",
   "nbconvert_exporter": "python",
   "pygments_lexer": "ipython3",
   "version": "3.6.8"
  }
 },
 "nbformat": 4,
 "nbformat_minor": 2
}
