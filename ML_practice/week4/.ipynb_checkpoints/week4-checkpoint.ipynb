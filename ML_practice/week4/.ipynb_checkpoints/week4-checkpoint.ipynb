{
 "cells": [
  {
   "cell_type": "markdown",
   "metadata": {},
   "source": [
    "# 4주차 실습과제 \n",
    "* 배운 여러가지 알고리즘 중 Decision Tree와 Support Vector Machine을 실습하는 예제입니다.\n",
    "* 실습 파일에 주석 부분에 정답 코드를 기재하여 코드파일(. ipynb) 그대로 제출해주시면 됩니다. <br> (각 주석 사이에 pass를 지운 후 정답 코드를 입력해주세요)\n",
    "* 과제를 해결하실 때 커리큘럼의 참고 링크와 인터넷 검색을 사용하셔도 됩니다."
   ]
  },
  {
   "cell_type": "code",
   "execution_count": 2,
   "metadata": {
    "collapsed": true
   },
   "outputs": [],
   "source": [
    "%matplotlib inline\n",
    "import pandas as pd\n",
    "import numpy as np\n",
    "import matplotlib.pyplot as plt\n",
    "import seaborn as sns\n",
    "from sklearn.tree import DecisionTreeClassifier\n",
    "from sklearn.svm import SVC"
   ]
  },
  {
   "cell_type": "markdown",
   "metadata": {},
   "source": [
    "## Decision Tree Classifier\n",
    " * Kaggle Competition의 Titinic Data set을 활용하여 Decision Tree Classifier를 만들어 봅니다.\n",
    " * https://www.kaggle.com/c/titanic/data 에서 데이터(train.csv / test.csv) 를 다운받으실 수 있습니다."
   ]
  },
  {
   "cell_type": "markdown",
   "metadata": {},
   "source": [
    "### 1-1) Train.csv/ Test.csv를 입력받아 데이터 탐색 및 분석에 적절한 형태로 데이터 전처리를 진행해 주세요 <br> 1-2) 트레이닝셋으로 Decision Tree Classfier를 만들어서 Test 셋에 적용해보고 예측 및 성능평가를 진행해주세요 <br> 1-3) Decision Tree모델의 성능을 올리기 위한 방법을 자유롭게 제안해 주세요"
   ]
  },
  {
   "cell_type": "code",
   "execution_count": 100,
   "metadata": {
    "collapsed": true,
    "scrolled": false
   },
   "outputs": [],
   "source": [
    "################################################################################\n",
    "# 1) Code :                                                                    # \n",
    "################################################################################\n",
    "pass\n",
    "################################################################################\n",
    "#                                 END OF YOUR CODE                             #\n",
    "################################################################################"
   ]
  },
  {
   "cell_type": "markdown",
   "metadata": {},
   "source": [
    "### Support Vector Classifier\n",
    " * 1번과 동일한 데이터로 Support Vector Classifier를 만들어 봅니다.\n",
    " * https://www.kaggle.com/c/titanic/data 에서 데이터(train.csv / test.csv) 를 다운받으실 수 있습니다.\n",
    " \n",
    "### 2-1) 1번 문제와 동일한 데이터로 Support Vector Classifier 모델을 만들고, 예측 및 성능평가를 진행해주세요<br> 2-2) Support Vector Classifier 모델의 성능을 올리기 위한 방법을 자유롭게 제안해 주세요"
   ]
  },
  {
   "cell_type": "code",
   "execution_count": 1,
   "metadata": {
    "collapsed": true
   },
   "outputs": [],
   "source": [
    "################################################################################\n",
    "# 2) Code :                                                                    # \n",
    "################################################################################\n",
    "pass\n",
    "################################################################################\n",
    "#                                 END OF YOUR CODE                             #\n",
    "################################################################################"
   ]
  }
 ],
 "metadata": {
  "kernelspec": {
   "display_name": "Python 3",
   "language": "python",
   "name": "python3"
  },
  "language_info": {
   "codemirror_mode": {
    "name": "ipython",
    "version": 3
   },
   "file_extension": ".py",
   "mimetype": "text/x-python",
   "name": "python",
   "nbconvert_exporter": "python",
   "pygments_lexer": "ipython3",
   "version": "3.6.8"
  }
 },
 "nbformat": 4,
 "nbformat_minor": 2
}
