{
 "cells": [
  {
   "cell_type": "markdown",
   "metadata": {},
   "source": [
    "# 5주차 실습과제 \n",
    "* 배운 비지도학습 알고리즘 중 k-means clustering과 hierarchical clustering을 실습하는 예제입니다.\n",
    "* 실습 파일에 주석 부분에 정답 코드를 기재하여 코드파일(. ipynb) 그대로 제출해주시면 됩니다. <br> (각 주석 사이에 pass를 지운 후 정답 코드를 입력해주세요)\n",
    "* 과제를 해결하실 때 커리큘럼의 참고 링크와 인터넷 검색을 사용하셔도 됩니다."
   ]
  },
  {
   "cell_type": "code",
   "execution_count": 1,
   "metadata": {
    "collapsed": true
   },
   "outputs": [],
   "source": [
    "%matplotlib inline\n",
    "import pandas as pd\n",
    "import numpy as np\n",
    "import matplotlib.pyplot as plt\n",
    "import seaborn as sns\n",
    "from sklearn.datasets import make_blobs\n",
    "from sklearn.cluster import KMeans\n",
    "from sklearn.cluster import AgglomerativeClustering\n",
    "from sklearn.datasets import load_digits"
   ]
  },
  {
   "cell_type": "markdown",
   "metadata": {},
   "source": [
    "## K-means Clustering\n",
    " * 주어진 데이터로 K-means Clustering을 수행해봅니다.\n",
    " * 적절한 K 값과 초기화에 대하여 고민해봅니다."
   ]
  },
  {
   "cell_type": "markdown",
   "metadata": {},
   "source": [
    "### 1-1) 주어진 데이터셋 X 에 대하여 임의의 k에 대한 K-means Clustering을 진행해 주세요.  앞의 10개의 데이터에 대한 cluster 결과(label)을 출력해주세요. <br><br> 1-2) k = 7 일때 Kmeans 를 진행해본 후 배정된 클러스터별로 구분되게 시각화를 해주세요.  <br><br> 1-3) (같은 코드를 20번 돌린 결과 출력) k = 7인 경우, X_tst의 데이터를 predict 한 결과 시각화 해주세요. <br> 시각화 결과 20회 모두 같은 군집을 배정받을까요? 그렇지 않다면 이유를 서술해 주세요. <br><br> 1-4) 이 데이터셋에서 적정 클러스터의 수 k는 몇일까요? 근거를 서술해주세요"
   ]
  },
  {
   "cell_type": "code",
   "execution_count": 2,
   "metadata": {
    "collapsed": true,
    "scrolled": false
   },
   "outputs": [],
   "source": [
    "X_tr = np.load('./data/kmeans.npy')\n",
    "X_tst = np.load('./data/kmeans_test.npy')\n",
    "################################################################################\n",
    "# 1-1) Code :                                                                  # \n",
    "################################################################################\n",
    "pass\n",
    "################################################################################\n",
    "#                                 END OF YOUR CODE                             #\n",
    "################################################################################"
   ]
  },
  {
   "cell_type": "code",
   "execution_count": 3,
   "metadata": {},
   "outputs": [
    {
     "data": {
      "text/plain": [
       "<matplotlib.figure.Figure at 0x50aa55668>"
      ]
     },
     "metadata": {},
     "output_type": "display_data"
    }
   ],
   "source": [
    "fig = plt.figure(figsize=(8,6))\n",
    "\n",
    "################################################################################\n",
    "# 1-2) Code :                                                                  # \n",
    "################################################################################\n",
    "pass\n",
    "################################################################################\n",
    "#                                 END OF YOUR CODE                             #\n",
    "################################################################################\n",
    "\n",
    "fig.savefig('./img/kmeans_result.png')  # 결과를 .png로 저장하는 코드입니다."
   ]
  },
  {
   "cell_type": "code",
   "execution_count": 4,
   "metadata": {
    "collapsed": true
   },
   "outputs": [],
   "source": [
    "for _iter in range(20):\n",
    "    fig = plt.figure(figsize=(8,6))\n",
    "    \n",
    "    ################################################################################\n",
    "    # 1-3) Code :                                                                  # \n",
    "    ################################################################################\n",
    "    pass\n",
    "    ################################################################################\n",
    "    #                                 END OF YOUR CODE                             #\n",
    "    ################################################################################\n",
    "    \n",
    "    fig.savefig('./img/kmeans_result('+str(_iter)+').png')"
   ]
  },
  {
   "cell_type": "markdown",
   "metadata": {},
   "source": [
    "#### 아래 링크에서 \"클러스터링 평가 척도\" 탭 참고\n",
    "https://ko.wikipedia.org/wiki/K-%ED%8F%89%EA%B7%A0_%EC%95%8C%EA%B3%A0%EB%A6%AC%EC%A6%98#%EC%8B%A4%EB%A3%A8%EC%97%A3_%EA%B8%B0%EB%B2%95"
   ]
  },
  {
   "cell_type": "code",
   "execution_count": 5,
   "metadata": {
    "collapsed": true
   },
   "outputs": [],
   "source": [
    "################################################################################\n",
    "# 1-4) Code :                                                                  # \n",
    "################################################################################\n",
    "pass\n",
    "################################################################################\n",
    "#                                 END OF YOUR CODE                             #\n",
    "################################################################################"
   ]
  },
  {
   "cell_type": "markdown",
   "metadata": {},
   "source": [
    "### Hierarchical Clustering\n",
    " * 0~9까지의 숫자 image데이터인 MNIST데이터 셋에 Hierarchical Clustering을 적용해봅시다.\n",
    " \n",
    "### 2-1) X_image 데이터에 Hierarchical Clustering을 진행해보고, <br>덴드로그램 결과를 시각화하여 Clustering 결과를 확인해 봅니다.<br> (X_image 는 images(각각 8by8 픽셀) 을 squeeze 해놓은 data파일 입니다. 이처럼 2차원 형태의 데이터는 1차원으로 squeeze한후 분석을 진행하는것이 편리합니다)"
   ]
  },
  {
   "cell_type": "code",
   "execution_count": 6,
   "metadata": {},
   "outputs": [
    {
     "data": {
      "image/png": "[encoded data removed]",
      "text/plain": [
       "<matplotlib.figure.Figure at 0x50da8a940>"
      ]
     },
     "metadata": {},
     "output_type": "display_data"
    }
   ],
   "source": [
    "digits = load_digits()\n",
    "n_image = 30\n",
    "np.random.seed(0)\n",
    "idx = np.random.choice(range(len(digits.images)), n_image)\n",
    "X_image = digits.data[idx]\n",
    "images = digits.images[idx]\n",
    "\n",
    "plt.figure(figsize=(6, 3))\n",
    "for i in range(n_image):\n",
    "    plt.subplot(3, 10, i + 1)\n",
    "    plt.imshow(images[i], cmap=plt.cm.bone)\n",
    "    plt.grid(False)\n",
    "    plt.xticks(())\n",
    "    plt.yticks(())\n",
    "    plt.title(i)\n",
    "    \n",
    "################################################################################\n",
    "# 2-1) Code :                                                                  # \n",
    "################################################################################\n",
    "pass\n",
    "################################################################################\n",
    "#                                 END OF YOUR CODE                             #\n",
    "################################################################################"
   ]
  }
 ],
 "metadata": {
  "kernelspec": {
   "display_name": "Python 3",
   "language": "python",
   "name": "python3"
  },
  "language_info": {
   "codemirror_mode": {
    "name": "ipython",
    "version": 3
   },
   "file_extension": ".py",
   "mimetype": "text/x-python",
   "name": "python",
   "nbconvert_exporter": "python",
   "pygments_lexer": "ipython3",
   "version": "3.6.8"
  }
 },
 "nbformat": 4,
 "nbformat_minor": 2
}
