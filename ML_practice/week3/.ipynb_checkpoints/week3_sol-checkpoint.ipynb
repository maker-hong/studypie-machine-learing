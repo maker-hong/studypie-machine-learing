{
 "cells": [
  {
   "cell_type": "markdown",
   "metadata": {},
   "source": [
    "# 3주차 실습과제 \n",
    "* Linear regression과 logistic regression 에 대한 실습 예제 입니다.\n",
    "* 실습 파일에 주석 부분에 정답 코드를 기재하여 코드파일(. ipynb) 그대로 제출해주시면 됩니다. <br> (각 주석 사이에 pass를 지운 후 정답 코드를 입력해주세요)\n",
    "* 과제를 해결하실 때 커리큘럼의 참고 링크와 인터넷 검색을 사용하셔도 됩니다."
   ]
  },
  {
   "cell_type": "code",
   "execution_count": 1,
   "metadata": {
    "collapsed": true
   },
   "outputs": [],
   "source": [
    "%matplotlib inline\n",
    "import pandas as pd\n",
    "import numpy as np\n",
    "import matplotlib.pyplot as plt\n",
    "import seaborn as sns\n",
    "from sklearn.linear_model import LinearRegression\n",
    "from sklearn.linear_model import LogisticRegression\n",
    "from sklearn import datasets"
   ]
  },
  {
   "cell_type": "markdown",
   "metadata": {},
   "source": [
    "## Linear Regression Practice (1~2)\n",
    " * Anscombe's quartet 데이터 셋을 활용한 Linear regression 실습 입니다.\n",
    " * Simple Linear Regression(SLR)의 경우, $$y = ax + b + error$$ <br>\n",
    "  Multiple Linear Regression(MLR)의 경우, $$y = b_0 + b_1 x_1 + b_2 x_2 + ... b_n x_n + error$$ <br>와 같은 형태를 갖습니다"
   ]
  },
  {
   "cell_type": "markdown",
   "metadata": {},
   "source": [
    "### Simple Linear Regression <br><br>1-1) (X1,Y1) ~ (X4, Y4) 의 통계값을 평균과 표준편차를 각각 계산하고 결과를 비교해주세요 <br> 1-2)  (X1,Y1) ~ (X4, Y4)데이터들로 각각 Linear regression line을 계산 해주세요.  <br> 1-3) 각 데이터셋을 linear regression으로 예측모델을 만드는 것은 유의미할까요? <br> (Hint : 데이터 포인트들을 시각화 해보세요)"
   ]
  },
  {
   "cell_type": "code",
   "execution_count": 2,
   "metadata": {
    "scrolled": false
   },
   "outputs": [
    {
     "name": "stdout",
     "output_type": "stream",
     "text": [
      "(X1,Y1)의 평균, 표준편차 :  9.0 3.1622776601683795\n",
      "(X2,Y2)의 평균, 표준편차 :  9.0 3.1622776601683795\n",
      "(X3,Y3)의 평균, 표준편차 :  9.0 3.1622776601683795\n",
      "(X4,Y4)의 평균, 표준편차 :  9.0 3.1622776601683795\n",
      "Y1 =  [3.00009091]  +  [0.50009091] X\n",
      "Y2 =  [3.00090909]  +  [0.5] X\n",
      "Y3 =  [3.00245455]  +  [0.49972727] X\n",
      "Y4 =  [3.00172727]  +  [0.49990909] X\n"
     ]
    },
    {
     "data": {
      "text/plain": [
       "[0, 20, 0, 20]"
      ]
     },
     "execution_count": 2,
     "metadata": {},
     "output_type": "execute_result"
    },
    {
     "data": {
      "image/png": "[encoded data removed]",
      "text/plain": [
       "<matplotlib.figure.Figure at 0xc3836beb8>"
      ]
     },
     "metadata": {},
     "output_type": "display_data"
    }
   ],
   "source": [
    "X1 = np.array([10,8,13,9,11,14,6,4,12,7,5]).reshape(-1,1)\n",
    "Y1 = np.array([8.04,6.95,7.58,8.81,8.33,9.96,7.24,4.26,10.84,4.82,5.68]).reshape(-1,1)\n",
    "X2 = np.array([10,8,13,9,11,14,6,4,12,7,5]).reshape(-1,1)\n",
    "Y2 = np.array([9.14,8.14,8.74,8.77,9.26,8.1,6.13,3.1,9.13,7.26,4.74]).reshape(-1,1)\n",
    "X3 = np.array([10,8,13,9,11,14,6,4,12,7,5]).reshape(-1,1)\n",
    "Y3 = np.array([7.46,6.77,12.74,7.11,7.81,8.84,6.08,5.39,8.15,6.42,5.73]).reshape(-1,1)\n",
    "X4 = np.array([8,8,8,8,8,8,8,19,8,8,8]).reshape(-1,1)\n",
    "Y4 = np.array([6.58,5.76,7.71,8.84,8.47,7.04,5.25,12.5,5.56,7.91,6.89]).reshape(-1,1)\n",
    "\n",
    "################################################################################\n",
    "# 1) Code :                                                                    # \n",
    "################################################################################\n",
    "#1-1\n",
    "print('(X1,Y1)의 평균, 표준편차 : ', np.mean(X1),np.std(X1))\n",
    "print('(X2,Y2)의 평균, 표준편차 : ', np.mean(X2),np.std(X2))\n",
    "print('(X3,Y3)의 평균, 표준편차 : ', np.mean(X3),np.std(X3))\n",
    "print('(X4,Y4)의 평균, 표준편차 : ', np.mean(X4),np.std(X4))\n",
    "\n",
    "#1-2\n",
    "lr1 = LinearRegression().fit(X1,Y1)\n",
    "print('Y1 = ',lr1.intercept_, ' + ',lr1.coef_[0],'X')\n",
    "lr2 = LinearRegression().fit(X2,Y2)\n",
    "print('Y2 = ',lr2.intercept_, ' + ',lr2.coef_[0],'X')\n",
    "lr3 = LinearRegression().fit(X3,Y3)\n",
    "print('Y3 = ',lr3.intercept_, ' + ',lr3.coef_[0],'X')\n",
    "lr4 = LinearRegression().fit(X4,Y4)\n",
    "print('Y4 = ',lr4.intercept_, ' + ',lr4.coef_[0],'X')\n",
    "\n",
    "#1-3\n",
    "# 헤석 : 서로 다른 데이터셋(1~4)가 모두 평균,표준편차와 linear regression결과가 같다. \n",
    "#       데이터의 생김새를 관찰하는 과정이 생략되었는데, 우선 데이터를 시각화해보자\n",
    "#       red line : Y=intercept_+lr1.coef_ * X 에 X=0,20에 대한 plot\n",
    "plt.figure()\n",
    "plt.subplot(2,2,1)\n",
    "plt.scatter(X1,Y1)\n",
    "plt.plot([0,20],[lr1.intercept_[0],lr1.intercept_[0]+20*lr1.coef_[0][0]],c='r')\n",
    "plt.axis([0,20,0,20])\n",
    "plt.subplot(2,2,2)\n",
    "plt.scatter(X2,Y2)\n",
    "plt.plot([0,20],[lr2.intercept_[0],lr2.intercept_[0]+20*lr2.coef_[0][0]],c='r')\n",
    "plt.axis([0,20,0,20])\n",
    "plt.subplot(2,2,3)\n",
    "plt.scatter(X3,Y3)\n",
    "plt.plot([0,20],[lr3.intercept_[0],lr3.intercept_[0]+20*lr3.coef_[0][0]],c='r')\n",
    "plt.axis([0,20,0,20])\n",
    "plt.subplot(2,2,4)\n",
    "plt.scatter(X4,Y4)\n",
    "plt.plot([0,20],[lr4.intercept_[0],lr4.intercept_[0]+20*lr4.coef_[0][0]],c='r')\n",
    "plt.axis([0,20,0,20])\n",
    "#       시각화 결과 Anscombe's quartet 데이터 셋에서 Linear regression 결과 아래와 같은 생각을 할 수 있다.\n",
    "#        1) (X2,Y2)는 선형 모델의 적용의 한계점이 있다.\n",
    "#        2) (X3,Y3), 특히 (X4,Y4)는 outlier에 대한 고려가 없이 linear regression을 적용했을 때의 문제점을 보여준다.\n",
    "#           다른 데이터들과 다르게 outlier 제거 후 분석한다면 모델의 결과가 많이 달라질 것이다.\n",
    "################################################################################\n",
    "#                                 END OF YOUR CODE                             #\n",
    "################################################################################"
   ]
  },
  {
   "cell_type": "markdown",
   "metadata": {},
   "source": [
    "### Multiple Linear Regression\n",
    "* scikit-learn 에서 제공하는 Open data set인 diabetes(당뇨병) 데이터 셋에 대한 예측을 진행해보자\n",
    "### 2-1) 트레이닝셋(X_tr/Y_tr) 중에서 하나의 column(0~9)만 사용해서 Simple Linear Regression 모델을 만들고, 트레이닝셋과 테스트셋(X_tst/Y_tst)에 대한 score(Explained variance score)를 구해주세요 <br> 2-2) 트레이닝 셋의 모든 변수를 사용하여 Multiple Linear Regression 모델을 만들고, 테스트셋의 score를 구해주세요"
   ]
  },
  {
   "cell_type": "code",
   "execution_count": 3,
   "metadata": {},
   "outputs": [
    {
     "name": "stdout",
     "output_type": "stream",
     "text": [
      "Training Score: 0.34\n",
      "Test Score: 0.26\n",
      "Training Score: 0.51\n",
      "Test Score: 0.52\n"
     ]
    }
   ],
   "source": [
    "data1 = datasets.load_diabetes()\n",
    "tr_ratio = 0.7\n",
    "X = data1['data']\n",
    "Y = data1['target']\n",
    "X_tr, X_tst = X[:int(tr_ratio*len(X))], X[int(tr_ratio*len(X)):]\n",
    "Y_tr, Y_tst = Y[:int(tr_ratio*len(X))], Y[int(tr_ratio*len(X)):]\n",
    "\n",
    "################################################################################\n",
    "# 2) Code :                                                                    # \n",
    "################################################################################\n",
    "#2-1\n",
    "column_n=8 # 원하는 Column(일변수) 설정\n",
    "lr2_1 = LinearRegression().fit(X_tr[:,column_n].reshape(-1,1), Y_tr)\n",
    "print('Training Score: %.2f' % lr2_1.score(X_tr[:,column_n].reshape(-1,1), Y_tr))\n",
    "print('Test Score: %.2f' % lr2_1.score(X_tst[:,column_n].reshape(-1,1), Y_tst))\n",
    "# 어떤 column을 설정하더라도 일변수로는 좋은 성능이 나오지 않음\n",
    "\n",
    "#2-2\n",
    "lr2_2 = LinearRegression().fit(X_tr, Y_tr)\n",
    "print('Training Score: %.2f' % lr2_2.score(X_tr, Y_tr))\n",
    "print('Test Score: %.2f' % lr2_2.score(X_tst, Y_tst))\n",
    "# Simple Linear Regression에 비해 높은 성능이 나온것을 볼 수 있음\n",
    "################################################################################\n",
    "#                                 END OF YOUR CODE                             #\n",
    "################################################################################"
   ]
  },
  {
   "cell_type": "markdown",
   "metadata": {},
   "source": [
    "## Logistic Regression Practice (3)\n",
    " * 간단한 로지스틱 모델을 만들고 예측해보는 실습입니다."
   ]
  },
  {
   "cell_type": "markdown",
   "metadata": {},
   "source": [
    "### 3-1) week2의 Pima_dataset.csv의 데이터로 Logistic regression 모델을 만들고, 성능을 평가해주세요<br>(경로 : week3/data/Pima_dataset.csv)<br><br> 데이터 정보\n",
    " Column0. Number of times pregnant<br>\n",
    " Column1. Plasma glucose concentration a 2 hours in an oral glucose tolerance test<br>\n",
    " Column2. Diastolic blood pressure (mm Hg)<br>\n",
    " Column3. Triceps skinfold thickness (mm)<br>\n",
    " Column4. 2-Hour serum insulin (mu U/ml)<br>\n",
    " Column5. Body mass index (weight in kg/(height in m)^2)<br>\n",
    " Column6. Diabetes pedigree function<br>\n",
    " Column7. Age (years)<br>\n",
    " Column8. Class variable (0 or 1)<br>\n",
    "### Column0~Column7을 X로, Column8 을 Y 설정하여 분석 진행 <br>Training:Test 데이터는 총 데이터의 70%:30% 로 나누어서 Score 구하기 성능평가<br>\n",
    "\n",
    "### 3-2) 테스트 셋의 20개 데이터에 대한 예측 결과와 실제 값을 출력해주세요"
   ]
  },
  {
   "cell_type": "code",
   "execution_count": 4,
   "metadata": {},
   "outputs": [
    {
     "name": "stdout",
     "output_type": "stream",
     "text": [
      "Training Score: 0.78\n",
      "Test Score: 0.79\n",
      "테스트셋 20개의 예측값 :  [0 0 0 0 0 0 0 0 1 1 0 0 1 0 0 0 0 0 0 0]\n",
      "테스트셋 20개의 실제값 :  [0 0 1 1 1 1 0 0 1 1 0 0 0 0 0 0 0 0 0 0]\n"
     ]
    }
   ],
   "source": [
    "df = pd.read_csv('./data/Pima_dataset.csv')\n",
    "################################################################################\n",
    "# 3) Code :                                                                    # \n",
    "################################################################################\n",
    "#3-1\n",
    "X_log = np.array(df.iloc[:,:8])\n",
    "Y_log = np.array(df.iloc[:,8])\n",
    "\n",
    "tr_ratio = 0.7\n",
    "\n",
    "X_log_tr, X_log_tst = X_log[:int(tr_ratio*len(X_log)),:], X_log[int(tr_ratio*len(X_log)):,:]\n",
    "Y_log_tr, Y_log_tst = Y_log[:int(tr_ratio*len(X_log))], Y_log[int(tr_ratio*len(X_log)):]\n",
    "\n",
    "log_clf = LogisticRegression().fit(X_log_tr,Y_log_tr)\n",
    "log_clf.score(X_log_tr,Y_log_tr)\n",
    "\n",
    "print('Training Score: %.2f' % log_clf.score(X_log_tr, Y_log_tr))\n",
    "print('Test Score: %.2f' % log_clf.score(X_log_tst, Y_log_tst))\n",
    "\n",
    "#3-2\n",
    "print('테스트셋 20개의 예측값 : ', log_clf.predict(X_log_tst[:20]))\n",
    "print('테스트셋 20개의 실제값 : ',Y_log_tst[:20])\n",
    "################################################################################\n",
    "#                                 END OF YOUR CODE                             #\n",
    "################################################################################"
   ]
  },
  {
   "cell_type": "code",
   "execution_count": null,
   "metadata": {
    "collapsed": true
   },
   "outputs": [],
   "source": []
  }
 ],
 "metadata": {
  "kernelspec": {
   "display_name": "Python 3",
   "language": "python",
   "name": "python3"
  },
  "language_info": {
   "codemirror_mode": {
    "name": "ipython",
    "version": 3
   },
   "file_extension": ".py",
   "mimetype": "text/x-python",
   "name": "python",
   "nbconvert_exporter": "python",
   "pygments_lexer": "ipython3",
   "version": "3.6.8"
  }
 },
 "nbformat": 4,
 "nbformat_minor": 2
}
