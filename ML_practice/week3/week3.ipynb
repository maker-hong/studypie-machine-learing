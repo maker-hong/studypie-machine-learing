{
 "cells": [
  {
   "cell_type": "markdown",
   "metadata": {},
   "source": [
    "# 3주차 실습과제 \n",
    "* Linear regression과 logistic regression 에 대한 실습 예제 입니다.\n",
    "* 실습 파일에 주석 부분에 정답 코드를 기재하여 코드파일(. ipynb) 그대로 제출해주시면 됩니다. <br> (각 주석 사이에 pass를 지운 후 정답 코드를 입력해주세요)\n",
    "* 과제를 해결하실 때 커리큘럼의 참고 링크와 인터넷 검색을 사용하셔도 됩니다."
   ]
  },
  {
   "cell_type": "code",
   "execution_count": 76,
   "metadata": {
    "collapsed": true
   },
   "outputs": [],
   "source": [
    "%matplotlib inline\n",
    "import pandas as pd\n",
    "import numpy as np\n",
    "import matplotlib.pyplot as plt\n",
    "import seaborn as sns\n",
    "from sklearn.linear_model import LinearRegression\n",
    "from sklearn.linear_model import LogisticRegression\n",
    "from sklearn import datasets"
   ]
  },
  {
   "cell_type": "markdown",
   "metadata": {},
   "source": [
    "## Linear Regression Practice (1~2)\n",
    " * Anscombe's quartet 데이터 셋을 활용한 Linear regression 실습 입니다.\n",
    " * Simple Linear Regression(SLR)의 경우, $$y = ax + b + error$$ <br>\n",
    "  Multiple Linear Regression(MLR)의 경우, $$y = b_0 + b_1 x_1 + b_2 x_2 + ... b_n x_n + error$$ <br>와 같은 형태를 갖습니다"
   ]
  },
  {
   "cell_type": "markdown",
   "metadata": {},
   "source": [
    "### Simple Linear Regression <br><br>1-1) (X1,Y1) ~ (X4, Y4) 의 통계값을 평균과 표준편차를 각각 계산하고 결과를 비교해주세요 <br> 1-2)  (X1,Y1) ~ (X4, Y4)데이터들로 각각 Linear regression line을 계산 해주세요.  <br> 1-3) 각 데이터셋을 linear regression으로 예측모델을 만드는 것은 유의미할까요? <br> (Hint : 데이터 포인트들을 시각화 해보세요)"
   ]
  },
  {
   "cell_type": "code",
   "execution_count": 100,
   "metadata": {
    "scrolled": false
   },
   "outputs": [],
   "source": [
    "X1 = np.array([10,8,13,9,11,14,6,4,12,7,5]).reshape(-1,1)\n",
    "Y1 = np.array([8.04,6.95,7.58,8.81,8.33,9.96,7.24,4.26,10.84,4.82,5.68]).reshape(-1,1)\n",
    "X2 = np.array([10,8,13,9,11,14,6,4,12,7,5]).reshape(-1,1)\n",
    "Y2 = np.array([9.14,8.14,8.74,8.77,9.26,8.1,6.13,3.1,9.13,7.26,4.74]).reshape(-1,1)\n",
    "X3 = np.array([10,8,13,9,11,14,6,4,12,7,5]).reshape(-1,1)\n",
    "Y3 = np.array([7.46,6.77,12.74,7.11,7.81,8.84,6.08,5.39,8.15,6.42,5.73]).reshape(-1,1)\n",
    "X4 = np.array([8,8,8,8,8,8,8,19,8,8,8]).reshape(-1,1)\n",
    "Y4 = np.array([6.58,5.76,7.71,8.84,8.47,7.04,5.25,12.5,5.56,7.91,6.89]).reshape(-1,1)\n",
    "\n",
    "################################################################################\n",
    "# 1) Code :                                                                    # \n",
    "################################################################################\n",
    "pass\n",
    "################################################################################\n",
    "#                                 END OF YOUR CODE                             #\n",
    "################################################################################"
   ]
  },
  {
   "cell_type": "markdown",
   "metadata": {},
   "source": [
    "### Multiple Linear Regression\n",
    "* scikit-learn 에서 제공하는 Open data set인 diabetes(당뇨병) 데이터 셋에 대한 예측을 진행해보자\n",
    "### 2-1) 트레이닝셋(X_tr/Y_tr) 중에서 하나의 column(0~9)만 사용해서 Simple Linear Regression 모델을 만들고, 트레이닝셋과 테스트셋(X_tst/Y_tst)에 대한 score(Explained variance score)를 구해주세요 <br> 2-2) 트레이닝 셋의 모든 변수를 사용하여 Multiple Linear Regression 모델을 만들고, 테스트셋의 score를 구해주세요"
   ]
  },
  {
   "cell_type": "code",
   "execution_count": 101,
   "metadata": {},
   "outputs": [],
   "source": [
    "data1 = datasets.load_diabetes()\n",
    "tr_ratio = 0.7\n",
    "X = data1['data']\n",
    "Y = data1['target']\n",
    "X_tr, X_tst = X[:int(tr_ratio*len(X))], X[int(tr_ratio*len(X)):]\n",
    "Y_tr, Y_tst = Y[:int(tr_ratio*len(X))], Y[int(tr_ratio*len(X)):]\n",
    "\n",
    "################################################################################\n",
    "# 2) Code :                                                                    # \n",
    "################################################################################\n",
    "pass\n",
    "################################################################################\n",
    "#                                 END OF YOUR CODE                             #\n",
    "################################################################################"
   ]
  },
  {
   "cell_type": "markdown",
   "metadata": {},
   "source": [
    "## Logistic Regression Practice (3)\n",
    " * 간단한 로지스틱 모델을 만들고 예측해보는 실습입니다."
   ]
  },
  {
   "cell_type": "markdown",
   "metadata": {},
   "source": [
    "### 3-1) week2의 Pima_dataset.csv의 데이터로 Logistic regression 모델을 만들고, 성능을 평가해주세요<br>(경로 : week3/data/Pima_dataset.csv)<br><br> 데이터 정보\n",
    " Column0. Number of times pregnant<br>\n",
    " Column1. Plasma glucose concentration a 2 hours in an oral glucose tolerance test<br>\n",
    " Column2. Diastolic blood pressure (mm Hg)<br>\n",
    " Column3. Triceps skinfold thickness (mm)<br>\n",
    " Column4. 2-Hour serum insulin (mu U/ml)<br>\n",
    " Column5. Body mass index (weight in kg/(height in m)^2)<br>\n",
    " Column6. Diabetes pedigree function<br>\n",
    " Column7. Age (years)<br>\n",
    " Column8. Class variable (0 or 1)<br>\n",
    "### Column0~Column7을 X로, Column8 을 Y 설정하여 분석 진행 <br>Training:Test 데이터는 총 데이터의 70%:30% 로 나누어서 Score 구하기 성능평가<br>\n",
    "\n",
    "### 3-2) 테스트 셋의 20개 데이터에 대한 예측 결과와 실제 값을 출력해주세요"
   ]
  },
  {
   "cell_type": "code",
   "execution_count": 102,
   "metadata": {},
   "outputs": [],
   "source": [
    "df = pd.read_csv('./data/Pima_dataset.csv')\n",
    "################################################################################\n",
    "# 3) Code :                                                                    # \n",
    "################################################################################\n",
    "pass\n",
    "################################################################################\n",
    "#                                 END OF YOUR CODE                             #\n",
    "################################################################################"
   ]
  },
  {
   "cell_type": "code",
   "execution_count": null,
   "metadata": {
    "collapsed": true
   },
   "outputs": [],
   "source": []
  }
 ],
 "metadata": {
  "kernelspec": {
   "display_name": "Python 3",
   "language": "python",
   "name": "python3"
  },
  "language_info": {
   "codemirror_mode": {
    "name": "ipython",
    "version": 3
   },
   "file_extension": ".py",
   "mimetype": "text/x-python",
   "name": "python",
   "nbconvert_exporter": "python",
   "pygments_lexer": "ipython3",
   "version": "3.6.8"
  }
 },
 "nbformat": 4,
 "nbformat_minor": 2
}
