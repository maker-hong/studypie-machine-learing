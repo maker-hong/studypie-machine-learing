{
 "cells": [
  {
   "cell_type": "markdown",
   "metadata": {},
   "source": [
    "# 2주차 실습과제 \n",
    "* 기초적인 결측치, 이상치를 다루는 실습입니다.\n",
    "* 실습 파일에 주석 부분에 정답 코드를 기재하여 코드파일(. ipynb) 그대로 제출해주시면 됩니다. <br> (각 주석 사이에 pass를 지운 후 정답 코드를 입력해주세요)\n",
    "* 과제를 해결하실 때 커리큘럼의 참고 링크와 인터넷 검색을 사용하셔도 됩니다."
   ]
  },
  {
   "cell_type": "code",
   "execution_count": 142,
   "metadata": {
    "collapsed": true
   },
   "outputs": [],
   "source": [
    "%matplotlib inline\n",
    "import pandas as pd\n",
    "import numpy as np\n",
    "import matplotlib.pyplot as plt\n",
    "import seaborn as sns"
   ]
  },
  {
   "cell_type": "markdown",
   "metadata": {},
   "source": [
    "## Missing Value Practice (1)\n",
    " * Pima Indians Diabete Dataset을 활용한 결측치(Missing Value) 실습입니다.(Pima_dataset.csv) <br>\n",
    " (Column0. Number of times pregnant. <br>\n",
    "  Column1. Plasma glucose concentration a 2 hours in an oral glucose tolerance test.<br>\n",
    " Column2. Diastolic blood pressure (mm Hg).<br>\n",
    " Column3. Triceps skinfold thickness (mm).<br>\n",
    " Column4. 2-Hour serum insulin (mu U/ml).<br>\n",
    " Column5. Body mass index (weight in kg/(height in m)^2).<br>\n",
    " Column6. Diabetes pedigree function.<br>\n",
    " Column7. Age (years).<br>\n",
    " Column8. Class variable (0 or 1).)<br>\n",
    " \n",
    "\n",
    "\n",
    " * 결측치는 데이터에 NaN값으로 존재할 수 도 있지만, 때로는 의미없는 숫자들(0 or inf 등 column의 의미와 맞지 않은)로 차있는 경우도 있습니다.\n",
    " * 데이터 탐색을 통해 pima dataset의 결측치를 탐색해 봅니다."
   ]
  },
  {
   "cell_type": "markdown",
   "metadata": {},
   "source": [
    "### 1-1) (자유방식, df1)결측치 혹은 이상치를 갖는 row를 유추해주세요<br>(Hint : 각 Columns들의 기초 통계값을 관찰해봅시다.mean,std,min,max,25,50,75% quantile)  <br> 1-2) Column1~5이 0의 값을 갖는 데이터들이 결측치로 가정해보고, 이 데이터들을 실제 결측치로 표시(np.nan)해서 df2에 저장해주세요 <br> 1-3) df2에서 결측치가 포함된 row들을 제거해df3에 저장해 주세요 <br> 1-4) df3의 통계값들을 관찰해본 후 df1과 비교해보세요(주석에 의견을 적어주세요)<br>1-5) 결측치를 다루는 또 다른 방식은 Imputation이 있습니다. df5에 df2의 결측치들을 평균값으로 대체해 주세요\n"
   ]
  },
  {
   "cell_type": "code",
   "execution_count": 143,
   "metadata": {
    "collapsed": true,
    "scrolled": true
   },
   "outputs": [],
   "source": [
    "df1 = pd.read_csv('Pima_dataset.csv')\n",
    "\n",
    "################################################################################\n",
    "# 1) Code :                                                                    # \n",
    "################################################################################\n",
    "pass\n",
    "################################################################################\n",
    "#                                 END OF YOUR CODE                             #\n",
    "################################################################################"
   ]
  },
  {
   "cell_type": "markdown",
   "metadata": {},
   "source": [
    "## Outlier Practice (2~3)\n",
    " * Outlier는 Missing Value와 함께 데이터 탐색 단계에서 꼭 고려해야 합니다.\n",
    " * Outlier를 탐색을 통계값관찰, 시각화, boxplot 의 측면에서 실습하는 과제입니다.\n",
    " * 뒷주차에 배우는 clustering 방법론을 활용한 outlier detection도 효율적인 방법론이지만, 아직 고려하지 않습니다."
   ]
  },
  {
   "cell_type": "markdown",
   "metadata": {},
   "source": [
    "### 하나의 변수에 대한 Outlier 탐색 <br><br>2-1) X의 mean, std를 살펴본 후 mean+-3std 밖에 벗어난 이상치를 구해주세요<br> 2-2) plt.hist()함수를 통해서 이상치를 유추해주세요(주석에 의견을 적어주세요) <br> 2-3) sns.boxplot() 함수를 사용해서 이상치를 유추해 주세요(주석에 의견을 적어주세요)"
   ]
  },
  {
   "cell_type": "code",
   "execution_count": 144,
   "metadata": {
    "collapsed": true
   },
   "outputs": [],
   "source": [
    "X = np.load('./data/outlier1.npy')\n",
    "################################################################################\n",
    "# 2) Code :                                                                    # \n",
    "################################################################################\n",
    "pass\n",
    "################################################################################\n",
    "#                                 END OF YOUR CODE                             #\n",
    "################################################################################"
   ]
  },
  {
   "cell_type": "markdown",
   "metadata": {},
   "source": [
    "### 두 변수에 대한 Outlier 탐색 <br><br> 3-1) 2번 문제의 방법론들 중 하나로 X2[:,0] 과 X2[:,1]의 outlier를 각각 유추해주세요(주석에 의견을 적어주세요) <br> 3-2)plt.scatter() 함수를 활용하여 X2를 x,y축으로 시각화 해 보고, outlier를 유추해보세요(주석에 의견을 적어주세요)"
   ]
  },
  {
   "cell_type": "code",
   "execution_count": 145,
   "metadata": {
    "collapsed": true
   },
   "outputs": [],
   "source": [
    "X2 = np.load('./data/outlier2.npy')\n",
    "################################################################################\n",
    "# 2) Code :                                                                    # \n",
    "################################################################################\n",
    "pass\n",
    "################################################################################\n",
    "#                                 END OF YOUR CODE                             #\n",
    "################################################################################"
   ]
  }
 ],
 "metadata": {
  "kernelspec": {
   "display_name": "Python 3",
   "language": "python",
   "name": "python3"
  },
  "language_info": {
   "codemirror_mode": {
    "name": "ipython",
    "version": 3
   },
   "file_extension": ".py",
   "mimetype": "text/x-python",
   "name": "python",
   "nbconvert_exporter": "python",
   "pygments_lexer": "ipython3",
   "version": "3.6.8"
  }
 },
 "nbformat": 4,
 "nbformat_minor": 2
}
